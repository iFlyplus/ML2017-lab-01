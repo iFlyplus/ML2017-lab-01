{
 "cells": [
  {
   "cell_type": "markdown",
   "metadata": {},
   "source": [
    "# Machine learning experiment 1"
   ]
  },
  {
   "cell_type": "code",
   "execution_count": 1,
   "metadata": {},
   "outputs": [],
   "source": [
    "# setup code\n",
    "\n",
    "import numpy as np\n",
    "import matplotlib.pyplot as plt\n",
    "from sklearn.datasets import load_svmlight_file\n",
    "from sklearn.model_selection import train_test_split\n",
    "\n",
    "%matplotlib inline\n",
    "plt.rcParams['figure.figsize'] = (16.0, 16.0) # set default size of plots\n",
    "\n",
    "%load_ext autoreload\n",
    "%autoreload 2"
   ]
  },
  {
   "cell_type": "markdown",
   "metadata": {},
   "source": [
    "# Housing Data Loading and Preprocessing"
   ]
  },
  {
   "cell_type": "code",
   "execution_count": 2,
   "metadata": {},
   "outputs": [
    {
     "name": "stdout",
     "output_type": "stream",
     "text": [
      "Train data shape:  (404, 13)\n",
      "Train labels shape:  (404,)\n",
      "Validation data shape:  (102, 13)\n",
      "Validation labels shape:  (102,)\n"
     ]
    }
   ],
   "source": [
    "# Load the raw housing_scale data.\n",
    "filename = 'dataset/housing_scale'\n",
    "X, y = load_svmlight_file(filename)\n",
    "\n",
    "# Split the data into train, and val sets.\n",
    "X_train, X_val, y_train, y_val = train_test_split(X, y, test_size = 0.2, random_state = 1)\n",
    "\n",
    "print('Train data shape: ', X_train.shape)\n",
    "print('Train labels shape: ', y_train.shape)\n",
    "print('Validation data shape: ', X_val.shape)\n",
    "print('Validation labels shape: ', y_val.shape)"
   ]
  },
  {
   "cell_type": "code",
   "execution_count": 3,
   "metadata": {},
   "outputs": [
    {
     "name": "stdout",
     "output_type": "stream",
     "text": [
      "[[-0.91702508 -0.76945545 -0.22159092 -0.84158416 -0.308534    0.03766704\n",
      "   0.33956011 -0.50958712 -0.26345231 -0.17459005  0.24225822  0.79955463\n",
      "  -0.3902572 ]]\n"
     ]
    }
   ],
   "source": [
    "# Preprocessing: subtract the mean of each housing feature\n",
    "# first: compute the housing feature mean based on the training data\n",
    "\n",
    "_mean = np.mean(X_train, axis=0)\n",
    "print(_mean)"
   ]
  },
  {
   "cell_type": "code",
   "execution_count": 4,
   "metadata": {},
   "outputs": [],
   "source": [
    "# second: subtract the mean from train and X_val data\n",
    "X_train -= _mean\n",
    "X_val -= _mean"
   ]
  },
  {
   "cell_type": "code",
   "execution_count": 5,
   "metadata": {},
   "outputs": [
    {
     "name": "stdout",
     "output_type": "stream",
     "text": [
      "(404, 14) (102, 14)\n"
     ]
    }
   ],
   "source": [
    "# third: append the bias dimension of ones\n",
    "X_train = np.hstack([X_train, np.ones((X_train.shape[0], 1))])\n",
    "X_val = np.hstack([X_val, np.ones((X_val.shape[0], 1))])\n",
    "\n",
    "print(X_train.shape, X_val.shape)"
   ]
  },
  {
   "cell_type": "code",
   "execution_count": 6,
   "metadata": {},
   "outputs": [
    {
     "name": "stdout",
     "output_type": "stream",
     "text": [
      "Train labels shape:  (404, 1)\n",
      "Validation labels shape:  (102, 1)\n"
     ]
    }
   ],
   "source": [
    "# \n",
    "y_train = y_train.reshape(-1, 1)\n",
    "y_val = y_val.reshape(-1, 1)\n",
    "\n",
    "print('Train labels shape: ', y_train.shape)\n",
    "print('Validation labels shape: ', y_val.shape)"
   ]
  },
  {
   "cell_type": "markdown",
   "metadata": {},
   "source": [
    "# Linear Regresser"
   ]
  },
  {
   "cell_type": "markdown",
   "metadata": {},
   "source": [
    "regresser_loss_naive(w, X_train, y_train, reg) return loss, grad\n",
    "\n",
    "regresser_loss_vectorized(w, X_train, y_train, reg) return loss, grad\n",
    "\n",
    "prediction = \n",
    "loss = 0.5 * (_y - y)**2 + reg * sum(W**2) "
   ]
  },
  {
   "cell_type": "code",
   "execution_count": 7,
   "metadata": {},
   "outputs": [],
   "source": [
    "def regresser_loss_naive(W, X, y, reg):\n",
    "    '''\n",
    "    linear regression loss function, naive implementation (with loops).\n",
    "    \n",
    "    Inputs:\n",
    "    - W: A numpy array of shape (D, 1) containing weights.\n",
    "    - X: A numpy array of shape (N, D) containing a minibatch of data.\n",
    "    - y: A numpy array of shape (N, 1) containing training labels.\n",
    "    - reg: (float) regularization strength\n",
    "    \n",
    "    Returns a tuple of:\n",
    "    - loss as single float\n",
    "    - gradient with respect to weights W; an array of same shape as W\n",
    "    '''\n",
    "    num_train = X.shape[0]\n",
    "    \n",
    "    loss = 0.0\n",
    "    grad = np.zeros(W.shape) # initialize the gradient as zero\n",
    "    \n",
    "    # compute the loss and the gradient\n",
    "    for i in range(num_train):\n",
    "        _y = np.sum(X[i] * W)\n",
    "        loss += (y[i][0] - _y)**2\n",
    "        grad += - 2 * X[i].T * (y[i][0] - _y)\n",
    "    loss /= num_train\n",
    "    grad /= num_train\n",
    "    \n",
    "    # Add regularization to the loss and gradient.\n",
    "    loss += reg * 0.5 * np.sum(np.square(W))\n",
    "    grad += reg * W\n",
    "    \n",
    "    return loss, grad\n",
    "\n",
    "def regresser_loss_vectorized(W, X, y, reg):\n",
    "    '''\n",
    "    linear regression loss function, vectorized implementation.\n",
    "    \n",
    "    Inputs and outputs are the same as regresser_loss_naive.\n",
    "    '''\n",
    "    _y = X.dot(W) # (404, 1)\n",
    "    loss = np.mean(np.square(y - _y)) + reg * 0.5 * np.sum(np.square(W))\n",
    "    grad = - 2 * X.T.dot(y - _y) / X.shape[0] + reg * W\n",
    "    return loss, grad"
   ]
  },
  {
   "cell_type": "markdown",
   "metadata": {},
   "source": [
    "# Gradient Check\n",
    "\n",
    "Performing a gradient check is as simple as comparing the analytic gradient to the numerical gradient. \n"
   ]
  },
  {
   "cell_type": "code",
   "execution_count": 8,
   "metadata": {},
   "outputs": [],
   "source": [
    "def eval_numerical_gradient(f, x, analytic_grad, h=1e-5):\n",
    "    \"\"\"\n",
    "    Evaluate a numeric gradient for a function that accepts a numpy\n",
    "    array and returns a numpy array.\n",
    "    \"\"\"\n",
    "    it = np.nditer(x, flags=['multi_index'], op_flags=['readwrite'])\n",
    "    while not it.finished:\n",
    "        ix = it.multi_index\n",
    "        \n",
    "        oldval = x[ix]\n",
    "        x[ix] = oldval + h\n",
    "        pos = f(x)\n",
    "        x[ix] = oldval - h\n",
    "        neg = f(x)\n",
    "        x[ix] = oldval\n",
    "\n",
    "        grad_numerical = (pos - neg) / (2 * h)\n",
    "        grad_analytic = analytic_grad[ix]\n",
    "        rel_error = abs(grad_numerical - grad_analytic) / (abs(grad_numerical) + abs(grad_analytic))\n",
    "        print('numerical: %f analytic: %f, relative error: %e' % (grad_numerical, grad_analytic, rel_error))\n",
    "        \n",
    "        it.iternext()"
   ]
  },
  {
   "cell_type": "code",
   "execution_count": 9,
   "metadata": {},
   "outputs": [
    {
     "name": "stdout",
     "output_type": "stream",
     "text": [
      "gradient check with regularization turned off\n",
      "numerical: 1.450196 analytic: 1.450196, relative error: 2.500940e-09\n",
      "numerical: -3.240397 analytic: -3.240397, relative error: 1.674595e-09\n",
      "numerical: 4.489404 analytic: 4.489404, relative error: 4.655180e-09\n",
      "numerical: -1.516704 analytic: -1.516704, relative error: 1.586829e-08\n",
      "numerical: 3.886106 analytic: 3.886106, relative error: 3.878214e-09\n",
      "numerical: -3.181649 analytic: -3.181649, relative error: 1.135836e-09\n",
      "numerical: 4.368756 analytic: 4.368756, relative error: 3.308320e-09\n",
      "numerical: -1.940520 analytic: -1.940520, relative error: 2.548463e-09\n",
      "numerical: 5.329158 analytic: 5.329158, relative error: 2.154025e-09\n",
      "numerical: 5.378774 analytic: 5.378774, relative error: 4.449455e-09\n",
      "numerical: 4.349617 analytic: 4.349617, relative error: 1.702340e-09\n",
      "numerical: -2.730431 analytic: -2.730431, relative error: 7.580849e-10\n",
      "numerical: 5.300355 analytic: 5.300355, relative error: 1.074430e-09\n",
      "numerical: -45.044554 analytic: -45.044554, relative error: 6.107941e-10\n",
      "\n",
      "gradient check with regularization turned on\n",
      "numerical: 1.450196 analytic: 1.450196, relative error: 1.418766e-09\n",
      "numerical: -3.240397 analytic: -3.240397, relative error: 7.974884e-10\n",
      "numerical: 4.489404 analytic: 4.489404, relative error: 4.094933e-10\n",
      "numerical: -1.516704 analytic: -1.516704, relative error: 9.969246e-10\n",
      "numerical: 3.886106 analytic: 3.886106, relative error: 2.213770e-10\n",
      "numerical: -3.181649 analytic: -3.181649, relative error: 2.425350e-10\n",
      "numerical: 4.368756 analytic: 4.368756, relative error: 5.548183e-11\n",
      "numerical: -1.940520 analytic: -1.940520, relative error: 1.083819e-09\n",
      "numerical: 5.329158 analytic: 5.329158, relative error: 2.072658e-11\n",
      "numerical: 5.378774 analytic: 5.378774, relative error: 2.222151e-10\n",
      "numerical: 4.349617 analytic: 4.349617, relative error: 3.954798e-10\n",
      "numerical: -2.730431 analytic: -2.730431, relative error: 2.828389e-10\n",
      "numerical: 5.300355 analytic: 5.300355, relative error: 1.984443e-12\n",
      "numerical: -45.044554 analytic: -45.044554, relative error: 2.017475e-11\n"
     ]
    }
   ],
   "source": [
    "W = np.zeros((X_train.shape[1], 1))\n",
    "\n",
    "# do the gradient check with regularization turned off\n",
    "print('gradient check with regularization turned off')\n",
    "loss, grad = regresser_loss_naive(W, X_train, y_train, 0.0)\n",
    "f = lambda w: regresser_loss_naive(w, X_train, y_train, 0.0)[0]\n",
    "grad_numerical = eval_numerical_gradient(f, W, grad)\n",
    "\n",
    "# do the gradient check once again with regularization turned on\n",
    "print('\\ngradient check with regularization turned on')\n",
    "loss, grad = regresser_loss_vectorized(W, X_train, y_train, 0.5)\n",
    "f = lambda w: regresser_loss_vectorized(w, X_train, y_train, 0.5)[0]\n",
    "grad_numerical = eval_numerical_gradient(f, W, grad)"
   ]
  },
  {
   "cell_type": "markdown",
   "metadata": {},
   "source": [
    "# Performance Comparison\n",
    "\n",
    "compare the performance of the naive implementation and vetorized implementation of gradient computing.\n",
    "\n"
   ]
  },
  {
   "cell_type": "code",
   "execution_count": 10,
   "metadata": {},
   "outputs": [
    {
     "name": "stdout",
     "output_type": "stream",
     "text": [
      "Naive implementation computed in 0.012332s\n",
      "Vectorized implementation computed in 0.000303s\n",
      "difference of loss: 0.000000\n",
      "difference of gradient: 0.000000\n"
     ]
    }
   ],
   "source": [
    "import time\n",
    "\n",
    "tic = time.time()\n",
    "loss_naive, grad_naive = regresser_loss_naive(W, X_train, y_train, 0.5)\n",
    "toc = time.time()\n",
    "print('Naive implementation computed in %fs' % (toc - tic))\n",
    "\n",
    "\n",
    "tic = time.time()\n",
    "loss_vectorized, grad_vectorized = regresser_loss_vectorized(W, X_train, y_train, 0.5)\n",
    "toc = time.time()\n",
    "print('Vectorized implementation computed in %fs' % (toc - tic))\n",
    "\n",
    "\n",
    "print('difference of loss: %f' % (loss_naive - loss_vectorized))\n",
    "difference = np.linalg.norm(grad_naive - grad_vectorized, ord='fro')\n",
    "print('difference of gradient: %f' % difference)"
   ]
  },
  {
   "cell_type": "markdown",
   "metadata": {},
   "source": [
    "# Gradient Descent"
   ]
  },
  {
   "cell_type": "code",
   "execution_count": 11,
   "metadata": {},
   "outputs": [
    {
     "name": "stdout",
     "output_type": "stream",
     "text": [
      "iteration 0 / 3000: train loss: 588.034356\tvaluation loss: 606.274156\n",
      "iteration 100 / 3000: train loss: 414.155465\tvaluation loss: 437.078733\n",
      "iteration 200 / 3000: train loss: 310.078673\tvaluation loss: 334.630586\n",
      "iteration 300 / 3000: train loss: 247.436201\tvaluation loss: 272.148823\n",
      "iteration 400 / 3000: train loss: 209.531183\tvaluation loss: 233.745890\n",
      "iteration 500 / 3000: train loss: 186.468383\tvaluation loss: 209.931917\n",
      "iteration 600 / 3000: train loss: 172.350288\tvaluation loss: 195.005927\n",
      "iteration 700 / 3000: train loss: 163.645497\tvaluation loss: 185.526136\n",
      "iteration 800 / 3000: train loss: 158.230977\tvaluation loss: 179.405345\n",
      "iteration 900 / 3000: train loss: 154.825866\tvaluation loss: 175.372308\n",
      "iteration 1000 / 3000: train loss: 152.654814\tvaluation loss: 172.649238\n",
      "iteration 1100 / 3000: train loss: 151.246875\tvaluation loss: 170.757855\n",
      "iteration 1200 / 3000: train loss: 150.314934\tvaluation loss: 169.402301\n",
      "iteration 1300 / 3000: train loss: 149.683177\tvaluation loss: 168.398240\n",
      "iteration 1400 / 3000: train loss: 149.243363\tvaluation loss: 167.629786\n",
      "iteration 1500 / 3000: train loss: 148.928400\tvaluation loss: 167.023271\n",
      "iteration 1600 / 3000: train loss: 148.696333\tvaluation loss: 166.531221\n",
      "iteration 1700 / 3000: train loss: 148.520636\tvaluation loss: 166.122521\n",
      "iteration 1800 / 3000: train loss: 148.384297\tvaluation loss: 165.776375\n",
      "iteration 1900 / 3000: train loss: 148.276216\tvaluation loss: 165.478559\n",
      "iteration 2000 / 3000: train loss: 148.189001\tvaluation loss: 165.219098\n",
      "iteration 2100 / 3000: train loss: 148.117605\tvaluation loss: 164.990800\n",
      "iteration 2200 / 3000: train loss: 148.058495\tvaluation loss: 164.788343\n",
      "iteration 2300 / 3000: train loss: 148.009126\tvaluation loss: 164.607673\n",
      "iteration 2400 / 3000: train loss: 147.967615\tvaluation loss: 164.445632\n",
      "iteration 2500 / 3000: train loss: 147.932532\tvaluation loss: 164.299698\n",
      "iteration 2600 / 3000: train loss: 147.902764\tvaluation loss: 164.167819\n",
      "iteration 2700 / 3000: train loss: 147.877429\tvaluation loss: 164.048297\n",
      "iteration 2800 / 3000: train loss: 147.855816\tvaluation loss: 163.939706\n",
      "iteration 2900 / 3000: train loss: 147.837344\tvaluation loss: 163.840837\n"
     ]
    }
   ],
   "source": [
    "#\n",
    "# reg: regularization strength.\n",
    "# lr: learning rate for optimization.\n",
    "# num_iters: number of steps to take when optimizing\n",
    "reg = 0.5\n",
    "lr = 0.001\n",
    "num_iters=3000\n",
    "\n",
    "\n",
    "W = np.zeros((X_train.shape[1], 1))\n",
    "loss_train_history = []\n",
    "loss_val_history = []\n",
    "for i in range(num_iters):\n",
    "    loss_train, grad = regresser_loss_vectorized(W, X_train, y_train, reg)\n",
    "    W -= lr * grad\n",
    "    \n",
    "    loss_val, _ = regresser_loss_vectorized(W, X_val, y_val, reg)\n",
    "    \n",
    "    loss_train_history.append(loss_train)\n",
    "    loss_val_history.append(loss_val)\n",
    "    if i % 100 == 0:\n",
    "        print('iteration %d / %d: train loss: %f\\tvaluation loss: %f' \n",
    "              % (i, num_iters, loss_train, loss_val))"
   ]
  },
  {
   "cell_type": "code",
   "execution_count": 12,
   "metadata": {},
   "outputs": [
    {
     "data": {
      "image/png": "[encoded data removed]",
      "text/plain": [
       "<matplotlib.figure.Figure at 0x7fb898c54f98>"
      ]
     },
     "metadata": {},
     "output_type": "display_data"
    }
   ],
   "source": [
    "# plot the loss as a function of iteration number:\n",
    "\n",
    "plt.subplot(2, 1, 1)\n",
    "plt.title('Train loss')\n",
    "plt.plot(loss_train_history)\n",
    "plt.xlabel('Iteration number')\n",
    "plt.ylabel('Loss value')\n",
    "\n",
    "plt.subplot(2, 1, 2)\n",
    "plt.title('Valuation loss')\n",
    "plt.plot(loss_val_history)\n",
    "plt.xlabel('Iteration number')\n",
    "plt.ylabel('Loss value')\n",
    "plt.show()"
   ]
  },
  {
   "cell_type": "markdown",
   "metadata": {},
   "source": [
    "# Cross-Validation\n",
    "\n",
    "Use the validation set to tune hyperparameters (regularization strength and learning rate).\n",
    "\n"
   ]
  },
  {
   "cell_type": "code",
   "execution_count": 13,
   "metadata": {},
   "outputs": [
    {
     "name": "stdout",
     "output_type": "stream",
     "text": [
      "lr 1.063455e-06, reg 4.479741e+00, train loss: 576.476659, validation loss: 576.476659\n",
      "lr 1.124548e-06, reg 5.744144e+00, train loss: 575.871422, validation loss: 575.871422\n",
      "lr 1.224474e-06, reg 4.569962e-05, train loss: 574.591339, validation loss: 574.591339\n",
      "lr 1.323595e-06, reg 2.476017e-03, train loss: 573.518216, validation loss: 573.518216\n",
      "lr 1.390362e-06, reg 5.298693e-02, train loss: 572.799208, validation loss: 572.799208\n",
      "lr 1.888879e-06, reg 5.602958e+03, train loss: 587.637655, validation loss: 587.637655\n",
      "lr 1.954763e-06, reg 9.775005e-01, train loss: 566.836031, validation loss: 566.836031\n",
      "lr 2.119718e-06, reg 1.568044e+02, train loss: 576.696351, validation loss: 576.696351\n",
      "lr 2.216526e-06, reg 8.168044e-04, train loss: 563.949499, validation loss: 563.949499\n",
      "lr 2.452968e-06, reg 8.684048e-03, train loss: 561.446788, validation loss: 561.446788\n",
      "lr 3.238008e-06, reg 3.850527e+04, train loss: 587.976604, validation loss: 587.976604\n",
      "lr 3.257046e-06, reg 7.962230e+02, train loss: 585.252209, validation loss: 585.252209\n",
      "lr 3.274356e-06, reg 1.911301e-04, train loss: 552.842097, validation loss: 552.842097\n",
      "lr 3.396532e-06, reg 1.943474e-05, train loss: 551.574905, validation loss: 551.574905\n",
      "lr 3.555357e-06, reg 4.564973e+02, train loss: 583.197246, validation loss: 583.197246\n",
      "lr 3.612017e-06, reg 1.902316e-04, train loss: 549.347929, validation loss: 549.347929\n",
      "lr 3.686449e-06, reg 5.536343e+02, train loss: 584.040147, validation loss: 584.040147\n",
      "lr 3.702369e-06, reg 1.288427e-03, train loss: 548.417517, validation loss: 548.417517\n",
      "lr 3.912497e-06, reg 3.607843e-02, train loss: 546.273401, validation loss: 546.273401\n",
      "lr 4.532611e-06, reg 1.660191e-02, train loss: 539.954185, validation loss: 539.954185\n",
      "lr 4.633554e-06, reg 1.079829e-02, train loss: 538.931333, validation loss: 538.931333\n",
      "lr 4.649229e-06, reg 6.001800e+02, train loss: 584.348170, validation loss: 584.348170\n",
      "lr 5.304266e-06, reg 8.655894e-01, train loss: 532.814765, validation loss: 532.814765\n",
      "lr 5.542404e-06, reg 4.167976e-04, train loss: 529.837644, validation loss: 529.837644\n",
      "lr 5.641113e-06, reg 5.584656e-04, train loss: 528.861039, validation loss: 528.861039\n",
      "lr 5.961854e-06, reg 1.181034e+03, train loss: 586.156297, validation loss: 586.156297\n",
      "lr 6.145189e-06, reg 2.615144e+04, train loss: 587.949326, validation loss: 587.949326\n",
      "lr 9.203082e-06, reg 3.247533e+02, train loss: 581.251821, validation loss: 581.251821\n",
      "lr 1.070288e-05, reg 7.867163e-05, train loss: 481.369772, validation loss: 481.369772\n",
      "lr 1.074348e-05, reg 1.529163e-01, train loss: 481.414736, validation loss: 481.414736\n",
      "lr 1.092530e-05, reg 1.406971e+02, train loss: 572.579343, validation loss: 572.579343\n",
      "lr 1.121800e-05, reg 1.044866e+04, train loss: 587.821575, validation loss: 587.821575\n",
      "lr 1.147969e-05, reg 5.551067e-02, train loss: 474.679671, validation loss: 474.679671\n",
      "lr 1.155713e-05, reg 3.402745e+00, train loss: 483.592271, validation loss: 483.592271\n",
      "lr 1.159402e-05, reg 6.125337e-04, train loss: 473.515227, validation loss: 473.515227\n",
      "lr 1.206320e-05, reg 3.039979e+02, train loss: 580.793480, validation loss: 580.793480\n",
      "lr 1.360868e-05, reg 2.675235e+01, train loss: 523.813165, validation loss: 523.813165\n",
      "lr 1.612081e-05, reg 7.383036e-05, train loss: 435.770505, validation loss: 435.770505\n",
      "lr 1.675761e-05, reg 8.940719e+04, train loss: 588.009483, validation loss: 588.009483\n",
      "lr 1.683020e-05, reg 2.810683e+00, train loss: 445.654789, validation loss: 445.654789\n",
      "lr 2.206449e-05, reg 3.862671e+00, train loss: 423.235535, validation loss: 423.235535\n",
      "lr 2.259423e-05, reg 7.840991e-04, train loss: 387.582937, validation loss: 387.582937\n",
      "lr 2.267733e-05, reg 6.127353e-01, train loss: 392.814954, validation loss: 392.814954\n",
      "lr 2.459621e-05, reg 7.061902e-03, train loss: 374.003279, validation loss: 374.003279\n",
      "lr 2.537452e-05, reg 3.157334e-02, train loss: 369.133351, validation loss: 369.133351\n",
      "lr 2.625771e-05, reg 1.964291e+03, train loss: 586.903974, validation loss: 586.903974\n",
      "lr 2.884775e-05, reg 2.004814e+04, train loss: 587.923444, validation loss: 587.923444\n",
      "lr 2.929820e-05, reg 1.270487e-02, train loss: 344.172743, validation loss: 344.172743\n",
      "lr 2.939395e-05, reg 1.285469e-03, train loss: 343.428128, validation loss: 343.428128\n",
      "lr 3.907114e-05, reg 9.773090e-02, train loss: 292.381600, validation loss: 292.381600\n",
      "lr 4.913463e-05, reg 1.428937e+02, train loss: 572.805637, validation loss: 572.805637\n",
      "lr 5.002934e-05, reg 3.146993e-04, train loss: 241.468410, validation loss: 241.468410\n",
      "lr 5.567234e-05, reg 8.893522e-05, train loss: 220.246773, validation loss: 220.246773\n",
      "lr 6.180245e-05, reg 3.564604e+03, train loss: 587.411008, validation loss: 587.411008\n",
      "lr 6.340098e-05, reg 6.349901e+01, train loss: 554.665974, validation loss: 554.665974\n",
      "lr 6.663619e-05, reg 2.931367e-02, train loss: 186.484732, validation loss: 186.484732\n",
      "lr 6.717798e-05, reg 3.371430e-05, train loss: 183.778257, validation loss: 183.778257\n",
      "lr 6.807257e-05, reg 7.044528e+00, train loss: 380.374915, validation loss: 380.374915\n",
      "lr 7.162092e-05, reg 3.096622e-01, train loss: 184.873304, validation loss: 184.873304\n",
      "lr 8.080985e-05, reg 3.959034e-02, train loss: 151.983759, validation loss: 151.983759\n",
      "lr 8.192886e-05, reg 4.069907e-05, train loss: 147.757664, validation loss: 147.757664\n",
      "lr 8.547564e-05, reg 8.135014e-03, train loss: 140.950628, validation loss: 140.950628\n",
      "lr 8.758227e-05, reg 2.197953e+00, train loss: 237.123472, validation loss: 237.123472\n",
      "lr 9.819904e-05, reg 1.611581e-04, train loss: 118.505120, validation loss: 118.505120\n",
      "lr 1.004832e-04, reg 8.356741e+03, train loss: 587.768330, validation loss: 587.768330\n",
      "lr 1.036857e-04, reg 7.378721e-04, train loss: 110.592951, validation loss: 110.592951\n",
      "lr 1.099880e-04, reg 8.156935e+04, train loss: 703.816073, validation loss: 703.816073\n",
      "lr 1.229230e-04, reg 8.287683e+03, train loss: 587.766114, validation loss: 587.766114\n",
      "lr 1.315128e-04, reg 2.851848e-05, train loss: 81.014305, validation loss: 81.014305\n",
      "lr 1.338787e-04, reg 3.908865e-04, train loss: 79.173463, validation loss: 79.173463\n",
      "lr 1.388977e-04, reg 1.367250e+02, train loss: 572.134015, validation loss: 572.134015\n",
      "lr 1.529871e-04, reg 1.502426e+04, train loss: 615.870800, validation loss: 615.870800\n",
      "lr 1.659275e-04, reg 1.750098e-05, train loss: 60.583565, validation loss: 60.583565\n",
      "lr 1.939222e-04, reg 8.945714e+04, train loss: 3846.344745, validation loss: 3846.344745\n",
      "lr 2.164897e-04, reg 9.972192e+04, train loss: 411.185758, validation loss: 411.185758\n",
      "lr 2.248682e-04, reg 8.496296e-01, train loss: 98.953698, validation loss: 98.953698\n",
      "lr 2.422915e-04, reg 2.733500e+01, train loss: 515.117965, validation loss: 515.117965\n",
      "lr 2.675529e-04, reg 3.163939e+04, train loss: 828.726339, validation loss: 828.726339\n",
      "lr 2.874548e-04, reg 4.075901e+03, train loss: 587.489143, validation loss: 587.489143\n",
      "lr 2.992956e-04, reg 4.391327e+03, train loss: 587.528277, validation loss: 587.528277\n",
      "lr 3.096974e-04, reg 1.737117e-01, train loss: 43.868215, validation loss: 43.868215\n",
      "lr 3.214506e-04, reg 1.344144e-05, train loss: 36.276003, validation loss: 36.276003\n",
      "lr 3.503615e-04, reg 2.152756e-01, train loss: 43.731054, validation loss: 43.731054\n",
      "lr 3.553459e-04, reg 7.133722e+00, train loss: 373.582073, validation loss: 373.582073\n",
      "lr 3.671458e-04, reg 1.106631e+02, train loss: 568.493020, validation loss: 568.493020\n",
      "lr 4.174777e-04, reg 4.709074e-03, train loss: 32.956147, validation loss: 32.956147\n",
      "lr 4.335075e-04, reg 3.823579e-03, train loss: 32.520498, validation loss: 32.520498\n",
      "lr 4.340542e-04, reg 2.066824e+02, train loss: 577.435221, validation loss: 577.435221\n",
      "lr 4.427221e-04, reg 7.450655e+02, train loss: 585.061976, validation loss: 585.061976\n",
      "lr 4.429781e-04, reg 2.929122e+04, train loss: 3296.816153, validation loss: 3296.816153\n",
      "lr 5.532925e-04, reg 2.612979e-01, train loss: 41.287227, validation loss: 41.287227\n",
      "lr 6.223564e-04, reg 2.052386e-05, train loss: 28.952580, validation loss: 28.952580\n",
      "lr 6.839791e-04, reg 2.203615e-04, train loss: 28.168093, validation loss: 28.168093\n",
      "lr 7.212483e-04, reg 3.417750e-04, train loss: 27.750417, validation loss: 27.750417\n",
      "lr 7.310619e-04, reg 9.377806e-04, train loss: 27.658193, validation loss: 27.658193\n",
      "lr 7.638578e-04, reg 7.124676e+04, train loss: 6480.251655, validation loss: 6480.251655\n",
      "lr 7.756818e-04, reg 4.630186e+00, train loss: 306.973052, validation loss: 306.973052\n",
      "lr 7.932213e-04, reg 2.032194e+04, train loss: 276.925442, validation loss: 276.925442\n",
      "lr 8.976080e-04, reg 2.709654e+01, train loss: 514.543969, validation loss: 514.543969\n",
      "lr 9.568677e-04, reg 4.181579e-01, train loss: 50.264221, validation loss: 50.264221\n",
      "lowest validation loss achieved: 27.658193\n"
     ]
    }
   ],
   "source": [
    "# first run coarse search\n",
    "# If the cost is 3 times greater than origin cost,break out early to avoid explosions\n",
    "\n",
    "max_count = 100\n",
    "\n",
    "results = {}\n",
    "lowest_loss = float('inf')   # The lowest validation loss that we have seen so far.\n",
    "best_W = None # The weight matrix that achieved thelowest validation loss.\n",
    "best_setup = None # the best hyperparameter to get the best_W, (lr, reg, num_iters)\n",
    "\n",
    "for i in range(max_count):\n",
    "    W = np.zeros((X_train.shape[1], 1))\n",
    "    reg = 10**np.random.uniform(-5, 5)\n",
    "    lr = 10**np.random.uniform(-6, -3)\n",
    "    \n",
    "    loss_init, _ = regresser_loss_vectorized(W, X_train, y_train, reg)\n",
    "    for i in range(5000):\n",
    "        loss, grad = regresser_loss_vectorized(W, X_train, y_train, reg)\n",
    "        W -= lr * grad\n",
    "        if loss > 3 * loss_init:\n",
    "            break\n",
    "    loss_train, _ = regresser_loss_vectorized(W, X_train, y_train, 0)\n",
    "    loss_val, _ = regresser_loss_vectorized(W, X_train, y_train, 0)\n",
    "    \n",
    "    results[lr, reg] = loss_train, loss_val\n",
    "    if loss_val < lowest_loss:\n",
    "        lowest_loss = loss_val\n",
    "        best_W = W\n",
    "        best_setup = (lr, reg, num_iters)\n",
    "\n",
    "\n",
    "for lr, reg in sorted(results):\n",
    "    loss_train, loss_val = results[(lr, reg)]\n",
    "    print('lr %e, reg %e, train loss: %f, validation loss: %f' % (\n",
    "                lr, reg, loss_train, loss_val))\n",
    "    \n",
    "print('lowest validation loss achieved: %f' % lowest_loss)"
   ]
  },
  {
   "cell_type": "code",
   "execution_count": 14,
   "metadata": {},
   "outputs": [
    {
     "ename": "SyntaxError",
     "evalue": "invalid syntax (<ipython-input-14-df279c34132b>, line 1)",
     "output_type": "error",
     "traceback": [
      "\u001b[0;36m  File \u001b[0;32m\"<ipython-input-14-df279c34132b>\"\u001b[0;36m, line \u001b[0;32m1\u001b[0m\n\u001b[0;31m    lr 1.256167e-04, reg 5.228679e-04, train loss: 98.342621, validation loss: 98.342621\u001b[0m\n\u001b[0m                  ^\u001b[0m\n\u001b[0;31mSyntaxError\u001b[0m\u001b[0;31m:\u001b[0m invalid syntax\n"
     ]
    }
   ],
   "source": [
    "lr 1.256167e-04, reg 5.228679e-04, train loss: 98.342621, validation loss: 98.342621\n",
    "lr 1.265925e-04, reg 1.734536e-04, train loss: 97.582745, validation loss: 97.582745\n",
    "lr 1.577575e-04, reg 2.114790e-05, train loss: 77.183114, validation loss: 77.183114\n",
    "lr 1.822775e-04, reg 2.886181e-03, train loss: 65.172677, validation loss: 65.172677\n",
    "lr 1.999056e-04, reg 3.734254e-05, train loss: 57.934372, validation loss: 57.934372\n",
    "lr 2.364170e-04, reg 1.358089e-01, train loss: 54.239104, validation loss: 54.239104\n",
    "lr 3.274482e-04, reg 1.557479e-04, train loss: 30.778259, validation loss: 30.778259\n",
    "lr 3.354292e-04, reg 7.033270e-03, train loss: 30.287093, validation loss: 30.287093\n",
    "lr 4.357737e-04, reg 2.642519e-05, train loss: 23.004004, validation loss: 23.004004\n",
    "lr 6.226358e-04, reg 3.813791e-05, train loss: 18.399611, validation loss: 18.399611\n",
    "lr 7.604731e-04, reg 1.564428e-01, train loss: 24.099079, validation loss: 24.099079\n",
    "lr 8.707518e-04, reg 6.222566e-05, train loss: 16.199228, validation loss: 16.199228\n",
    "lr 9.809586e-04, reg 2.611612e-02, train loss: 16.224287, validation loss: 16.224287"
   ]
  },
  {
   "cell_type": "code",
   "execution_count": null,
   "metadata": {},
   "outputs": [],
   "source": [
    "max_count = 100\n",
    "\n",
    "results = {}\n",
    "lowest_loss = float('inf')   # The lowest validation loss that we have seen so far.\n",
    "best_W = None # The weight matrix that achieved thelowest validation loss.\n",
    "best_setup = None # the best hyperparameter to get the best_W, (lr, reg, num_iters)\n",
    "\n",
    "for i in range(max_count):\n",
    "    W = np.zeros((X_train.shape[1], 1))\n",
    "    reg = 10**np.random.uniform(-5, 0)\n",
    "    lr = 10**np.random.uniform(-4, -1)\n",
    "    \n",
    "    loss_init, _ = regresser_loss_vectorized(W, X_train, y_train, reg)\n",
    "    for i in range(3000):\n",
    "        loss, grad = regresser_loss_vectorized(W, X_train, y_train, reg)\n",
    "        W -= lr * grad\n",
    "        if loss > 3 * loss_init:\n",
    "            break\n",
    "    loss_train, _ = regresser_loss_vectorized(W, X_train, y_train, 0)\n",
    "    loss_val, _ = regresser_loss_vectorized(W, X_train, y_train, 0)\n",
    "    \n",
    "    results[lr, reg] = loss_train, loss_val\n",
    "    if loss_val < lowest_loss:\n",
    "        lowest_loss = loss_val\n",
    "        best_W = W\n",
    "        best_setup = (lr, reg, num_iters)\n",
    "\n",
    "\n",
    "for lr, reg in sorted(results):\n",
    "    loss_train, loss_val = results[(lr, reg)]\n",
    "    print('lr %e, reg %e, train loss: %f, validation loss: %f' % (\n",
    "                lr, reg, loss_train, loss_val))\n",
    "    \n",
    "print('lowest validation loss achieved: %f' % lowest_loss)"
   ]
  },
  {
   "cell_type": "code",
   "execution_count": null,
   "metadata": {},
   "outputs": [],
   "source": [
    "for lr, reg in results:\n",
    "    loss_train, loss_val = results[(lr, reg)]\n",
    "    print('lr %e, reg %e, train loss: %f, validation loss: %f' % (\n",
    "                lr, reg, loss_train, loss_val))\n",
    "    \n",
    "print('lowest validation loss achieved: %f' % lowest_loss)"
   ]
  },
  {
   "cell_type": "code",
   "execution_count": null,
   "metadata": {},
   "outputs": [],
   "source": [
    "print(np.mean(np.square(X_train.dot(best_W) - y_train)))\n",
    "print(np.mean(np.square(X_val.dot(best_W) - y_val)))"
   ]
  },
  {
   "cell_type": "code",
   "execution_count": null,
   "metadata": {},
   "outputs": [],
   "source": [
    "# plot the loss as a function of iteration number:\n",
    "\n",
    "plt.subplot(2, 1, 1)\n",
    "plt.title('Train loss')\n",
    "plt.plot(loss_train_history)\n",
    "plt.xlabel('Iteration number')\n",
    "plt.ylabel('Loss value')\n",
    "\n",
    "plt.subplot(2, 1, 2)\n",
    "plt.title('Valuation loss')\n",
    "plt.plot(loss_val_history)\n",
    "plt.xlabel('Iteration number')\n",
    "plt.ylabel('Loss value')\n",
    "plt.show()"
   ]
  }
 ],
 "metadata": {
  "kernelspec": {
   "display_name": "Python 3",
   "language": "python",
   "name": "python3"
  },
  "language_info": {
   "codemirror_mode": {
    "name": "ipython",
    "version": 3
   },
   "file_extension": ".py",
   "mimetype": "text/x-python",
   "name": "python",
   "nbconvert_exporter": "python",
   "pygments_lexer": "ipython3",
   "version": "3.5.2"
  }
 },
 "nbformat": 4,
 "nbformat_minor": 2
}
