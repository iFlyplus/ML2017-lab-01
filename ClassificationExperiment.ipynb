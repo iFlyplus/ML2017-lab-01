{
 "cells": [
  {
   "cell_type": "markdown",
   "metadata": {},
   "source": [
    "# Machine learning experiment 1-2 -- Linear Classifier"
   ]
  },
  {
   "cell_type": "code",
   "execution_count": 1,
   "metadata": {},
   "outputs": [],
   "source": [
    "# setup code\n",
    "\n",
    "import numpy as np\n",
    "import matplotlib.pyplot as plt\n",
    "from sklearn.datasets import load_svmlight_file\n",
    "from sklearn.model_selection import train_test_split\n",
    "\n",
    "%matplotlib inline\n",
    "plt.rcParams['figure.figsize'] = (16.0, 8.0) # set default size of plots\n",
    "\n",
    "%load_ext autoreload\n",
    "%autoreload 2"
   ]
  },
  {
   "cell_type": "markdown",
   "metadata": {},
   "source": [
    "# Data Loading and Preprocessing"
   ]
  },
  {
   "cell_type": "code",
   "execution_count": 2,
   "metadata": {},
   "outputs": [
    {
     "name": "stdout",
     "output_type": "stream",
     "text": [
      "Train data shape:  (552, 14)\n",
      "Train labels shape:  (552,)\n",
      "Validation data shape:  (138, 14)\n",
      "Validation labels shape:  (138,)\n"
     ]
    }
   ],
   "source": [
    "# Load the raw australian_scale data.\n",
    "filename = 'dataset/australian_scale'\n",
    "X, y = load_svmlight_file(filename)\n",
    "X = X.toarray()\n",
    "\n",
    "# Split the data into train and valuation sets\n",
    "X_train, X_val, y_train, y_val = train_test_split(X, y, test_size = 0.2, random_state = 1)\n",
    "\n",
    "print('Train data shape: ', X_train.shape)\n",
    "print('Train labels shape: ', y_train.shape)\n",
    "print('Validation data shape: ', X_val.shape)\n",
    "print('Validation labels shape: ', y_val.shape)"
   ]
  },
  {
   "cell_type": "code",
   "execution_count": 3,
   "metadata": {},
   "outputs": [
    {
     "name": "stdout",
     "output_type": "stream",
     "text": [
      "[ 0.31884058 -0.46476572 -0.67008152 -0.24637681 -0.01672242 -0.07382246\n",
      " -0.84769386  0.04710145 -0.16666667 -0.92953713 -0.05797101 -0.07971014\n",
      " -0.81589312 -0.97806283]\n"
     ]
    }
   ],
   "source": [
    "# preprocessing: substract the mean of each feature\n",
    "# first: compute the mean of the features of train data\n",
    "\n",
    "_mean = np.mean(X_train, axis = 0)\n",
    "print(_mean)"
   ]
  },
  {
   "cell_type": "code",
   "execution_count": 4,
   "metadata": {},
   "outputs": [],
   "source": [
    "# second: subtract the mean from train and X_val data\n",
    "\n",
    "X_train -= _mean\n",
    "X_val -= _mean"
   ]
  },
  {
   "cell_type": "code",
   "execution_count": 5,
   "metadata": {},
   "outputs": [
    {
     "name": "stdout",
     "output_type": "stream",
     "text": [
      "Train data shape:  (552, 15)\n",
      "Validation data shape:  (138, 15)\n"
     ]
    }
   ],
   "source": [
    "# third: append the bias dimension of ones\n",
    "\n",
    "X_train = np.hstack([X_train, np.ones((X_train.shape[0], 1))])\n",
    "X_val = np.hstack([X_val, np.ones((X_val.shape[0], 1))])\n",
    "\n",
    "print('Train data shape: ', X_train.shape)\n",
    "print('Validation data shape: ', X_val.shape)"
   ]
  },
  {
   "cell_type": "code",
   "execution_count": 6,
   "metadata": {},
   "outputs": [
    {
     "name": "stdout",
     "output_type": "stream",
     "text": [
      "Train labels shape:  (552, 1)\n",
      "Validation labels shape:  (138, 1)\n"
     ]
    }
   ],
   "source": [
    "# \n",
    "\n",
    "y_train = y_train.reshape(-1, 1)\n",
    "y_val = y_val.reshape(-1, 1)\n",
    "\n",
    "print('Train labels shape: ', y_train.shape)\n",
    "print('Validation labels shape: ', y_val.shape)"
   ]
  },
  {
   "cell_type": "markdown",
   "metadata": {},
   "source": [
    "# Linear Classifier"
   ]
  },
  {
   "cell_type": "markdown",
   "metadata": {},
   "source": [
    "svm_loss_naive(w, X_train, y_train, reg) return loss, grad\n",
    "\n",
    "svm_loss_vectorized(w, X_train, y_train, reg) return loss, grad\n",
    "\n"
   ]
  },
  {
   "cell_type": "code",
   "execution_count": 7,
   "metadata": {},
   "outputs": [],
   "source": [
    "def svm_loss_naive(W, X, y, reg):\n",
    "    '''\n",
    "    svm loss function, naive implementation (with loops).\n",
    "    \n",
    "    Inputs:\n",
    "    - W: A numpy array of shape (D, 1) containing weights.\n",
    "    - X: A numpy array of shape (N, D) containing a minibatch of data.\n",
    "    - y: A numpy array of shape (N, 1) containing training labels.\n",
    "    - reg: (float) regularization strength\n",
    "    \n",
    "    Returns a tuple of:\n",
    "    - loss as single float\n",
    "    - gradient with respect to weights W; an array of same shape as W\n",
    "    '''\n",
    "    num_train = X.shape[0]\n",
    "    \n",
    "    loss = 0.0\n",
    "    grad = np.zeros(W.shape) # initialize the gradient as zero\n",
    "    \n",
    "    # compute the loss and the gradient\n",
    "    for i in range(num_train):\n",
    "        _y = X[i:i+1].dot(W)[0][0]\n",
    "        if 1 - y[i][0] * _y > 0:\n",
    "            loss += 1 - y[i][0] * _y\n",
    "            # grad += - (X[i] * y[i]).reshape(-1, 1)\n",
    "            grad += - X[i:i+1].T.dot(y[i:i+1])\n",
    "            \n",
    "    loss /= num_train\n",
    "    grad /= num_train\n",
    "    \n",
    "    # Add regularization to the loss and gradient.\n",
    "    loss += reg * 0.5 * np.sum(np.square(W))\n",
    "    grad += reg * W\n",
    "    \n",
    "    return loss, grad\n",
    "\n",
    "def svm_loss_vectorized(W, X, y, reg):\n",
    "    '''\n",
    "    svm loss function, vectorized implementation.\n",
    "    \n",
    "    Inputs and outputs are the same as regresser_loss_naive.\n",
    "    '''\n",
    "    _y = X.dot(W) # (N, 1)\n",
    "    loss = np.mean(np.maximum(0, 1 - y * _y)) + reg * 0.5 * np.sum(np.square(W))\n",
    "    \n",
    "    coeff_mat = - X * y\n",
    "    coeff_mat[(1 - y * _y == 0).reshape(-1)] = 0\n",
    "    grad = np.mean(coeff_mat, axis = 0).reshape(-1,1) + reg * W\n",
    "    \n",
    "    return loss, grad\n",
    "\n",
    "def predict(W, X):\n",
    "    _y = X.dot(W)\n",
    "    p = np.array(_y>0, dtype = np.float64)\n",
    "    p[p == 0] = -1\n",
    "    return p"
   ]
  },
  {
   "cell_type": "markdown",
   "metadata": {},
   "source": [
    "# Gradient Check\n",
    "\n",
    "Performing a gradient check is as simple as comparing the analytic gradient to the numerical gradient. \n"
   ]
  },
  {
   "cell_type": "code",
   "execution_count": 8,
   "metadata": {},
   "outputs": [],
   "source": [
    "def eval_numerical_gradient(f, x, analytic_grad, h=1e-5):\n",
    "    \"\"\"\n",
    "    Evaluate a numeric gradient for a function that accepts a numpy\n",
    "    array and returns a numpy array.\n",
    "    \"\"\"\n",
    "    it = np.nditer(x, flags=['multi_index'], op_flags=['readwrite'])\n",
    "    while not it.finished:\n",
    "        ix = it.multi_index\n",
    "        \n",
    "        oldval = x[ix]\n",
    "        x[ix] = oldval + h\n",
    "        pos = f(x)\n",
    "        x[ix] = oldval - h\n",
    "        neg = f(x)\n",
    "        x[ix] = oldval\n",
    "        \n",
    "        grad_numerical = (pos - neg) / (2 * h)\n",
    "        grad_analytic = analytic_grad[ix]\n",
    "        rel_error = abs(grad_numerical - grad_analytic) / (abs(grad_numerical) + abs(grad_analytic))\n",
    "        print('numerical: %f analytic: %f, relative error: %e' % (grad_numerical, grad_analytic, rel_error))\n",
    "        \n",
    "        it.iternext()"
   ]
  },
  {
   "cell_type": "code",
   "execution_count": 9,
   "metadata": {},
   "outputs": [
    {
     "name": "stdout",
     "output_type": "stream",
     "text": [
      "gradient check with regularization turned off\n",
      "numerical: 0.023472 analytic: 0.023472, relative error: 4.772547e-09\n",
      "numerical: -0.057881 analytic: -0.057881, relative error: 4.056767e-10\n",
      "numerical: -0.077897 analytic: -0.077897, relative error: 1.522477e-10\n",
      "numerical: -0.075614 analytic: -0.075614, relative error: 2.163692e-10\n",
      "numerical: -0.202850 analytic: -0.202850, relative error: 1.047663e-10\n",
      "numerical: -0.115721 analytic: -0.115721, relative error: 4.283243e-11\n",
      "numerical: -0.069076 analytic: -0.069076, relative error: 3.527363e-10\n",
      "numerical: -0.694037 analytic: -0.694037, relative error: 1.785912e-10\n",
      "numerical: -0.469203 analytic: -0.469203, relative error: 8.262734e-11\n",
      "numerical: -0.059853 analytic: -0.059853, relative error: 3.239318e-09\n",
      "numerical: -0.040170 analytic: -0.040170, relative error: 5.640039e-10\n",
      "numerical: -0.030325 analytic: -0.030325, relative error: 1.096969e-09\n",
      "numerical: 0.023116 analytic: 0.023116, relative error: 2.518041e-09\n",
      "numerical: -0.019964 analytic: -0.019964, relative error: 1.085954e-09\n",
      "numerical: 0.119565 analytic: 0.119565, relative error: 2.460200e-10\n",
      "\n",
      "gradient check with regularization turned on\n",
      "numerical: 0.023472 analytic: 0.023472, relative error: 4.772547e-09\n",
      "numerical: -0.057881 analytic: -0.057881, relative error: 4.056767e-10\n",
      "numerical: -0.077897 analytic: -0.077897, relative error: 1.522477e-10\n",
      "numerical: -0.075614 analytic: -0.075614, relative error: 2.163692e-10\n",
      "numerical: -0.202850 analytic: -0.202850, relative error: 1.047663e-10\n",
      "numerical: -0.115721 analytic: -0.115721, relative error: 4.283243e-11\n",
      "numerical: -0.069076 analytic: -0.069076, relative error: 3.527363e-10\n",
      "numerical: -0.694037 analytic: -0.694037, relative error: 1.785912e-10\n",
      "numerical: -0.469203 analytic: -0.469203, relative error: 8.262734e-11\n",
      "numerical: -0.059853 analytic: -0.059853, relative error: 3.239318e-09\n",
      "numerical: -0.040170 analytic: -0.040170, relative error: 5.640039e-10\n",
      "numerical: -0.030325 analytic: -0.030325, relative error: 1.096969e-09\n",
      "numerical: 0.023116 analytic: 0.023116, relative error: 2.518041e-09\n",
      "numerical: -0.019964 analytic: -0.019964, relative error: 1.085954e-09\n",
      "numerical: 0.119565 analytic: 0.119565, relative error: 2.460200e-10\n"
     ]
    }
   ],
   "source": [
    "W = np.zeros((X_train.shape[1], 1))\n",
    "\n",
    "# do the gradient check with regularization turned off\n",
    "print('gradient check with regularization turned off')\n",
    "loss, grad = svm_loss_naive(W, X_train, y_train, 0.0)\n",
    "f = lambda w: svm_loss_naive(w, X_train, y_train, 0.0)[0]\n",
    "grad_numerical = eval_numerical_gradient(f, W, grad)\n",
    "\n",
    "# do the gradient check once again with regularization turned on\n",
    "print('\\ngradient check with regularization turned on')\n",
    "loss, grad = svm_loss_naive(W, X_train, y_train, 0.5)\n",
    "f = lambda w: svm_loss_naive(w, X_train, y_train, 0.5)[0]\n",
    "grad_numerical = eval_numerical_gradient(f, W, grad)"
   ]
  },
  {
   "cell_type": "markdown",
   "metadata": {},
   "source": [
    "# Performance Comparison\n",
    "\n",
    "compare the performance of the naive implementation and vetorized implementation of gradient computing.\n",
    "\n"
   ]
  },
  {
   "cell_type": "code",
   "execution_count": 10,
   "metadata": {},
   "outputs": [
    {
     "name": "stdout",
     "output_type": "stream",
     "text": [
      "Naive implementation computed in 0.003361s\n",
      "Vectorized implementation computed in 0.000326s\n",
      "difference of loss: 0.000000\n",
      "difference of gradient: 0.000000\n"
     ]
    }
   ],
   "source": [
    "import time\n",
    "\n",
    "tic = time.time()\n",
    "loss_naive, grad_naive = svm_loss_naive(W, X_train, y_train, 0.5)\n",
    "toc = time.time()\n",
    "print('Naive implementation computed in %fs' % (toc - tic))\n",
    "\n",
    "\n",
    "tic = time.time()\n",
    "loss_vectorized, grad_vectorized = svm_loss_vectorized(W, X_train, y_train, 0.5)\n",
    "toc = time.time()\n",
    "print('Vectorized implementation computed in %fs' % (toc - tic))\n",
    "\n",
    "\n",
    "print('difference of loss: %f' % (loss_naive - loss_vectorized))\n",
    "difference = np.linalg.norm(grad_naive - grad_vectorized, ord='fro')\n",
    "print('difference of gradient: %f' % difference)"
   ]
  },
  {
   "cell_type": "markdown",
   "metadata": {},
   "source": [
    "# Gradient Descent"
   ]
  },
  {
   "cell_type": "code",
   "execution_count": 15,
   "metadata": {},
   "outputs": [
    {
     "name": "stdout",
     "output_type": "stream",
     "text": [
      "lr: 0.001000, reg: 2.000000, num_iters: 1500.000000\n",
      "iteration 0 / 1500: train loss: 5.010897\tvaluation loss: 4.975632\n",
      "iteration 100 / 1500: train loss: 3.671039\tvaluation loss: 3.638663\n",
      "iteration 200 / 1500: train loss: 2.755736\tvaluation loss: 2.724184\n",
      "iteration 300 / 1500: train loss: 2.128769\tvaluation loss: 2.099030\n",
      "iteration 400 / 1500: train loss: 1.698657\tvaluation loss: 1.672965\n",
      "iteration 500 / 1500: train loss: 1.405897\tvaluation loss: 1.383995\n",
      "iteration 600 / 1500: train loss: 1.205997\tvaluation loss: 1.187599\n",
      "iteration 700 / 1500: train loss: 1.070460\tvaluation loss: 1.053503\n",
      "iteration 800 / 1500: train loss: 0.978517\tvaluation loss: 0.961700\n",
      "iteration 900 / 1500: train loss: 0.916728\tvaluation loss: 0.898990\n",
      "iteration 1000 / 1500: train loss: 0.876371\tvaluation loss: 0.858619\n",
      "iteration 1100 / 1500: train loss: 0.849800\tvaluation loss: 0.833141\n",
      "iteration 1200 / 1500: train loss: 0.832531\tvaluation loss: 0.816061\n",
      "iteration 1300 / 1500: train loss: 0.821486\tvaluation loss: 0.804998\n",
      "iteration 1400 / 1500: train loss: 0.814201\tvaluation loss: 0.798274\n"
     ]
    }
   ],
   "source": [
    "#\n",
    "# reg: regularization strength.\n",
    "# lr: learning rate for optimization.\n",
    "# num_iters: number of steps to take when optimizing\n",
    "reg = 2\n",
    "lr = 0.001\n",
    "num_iters=1500\n",
    "\n",
    "print('lr: %f, reg: %f, num_iters: %f' % (lr, reg, num_iters))\n",
    "W = np.random.random((X_train.shape[1], 1))\n",
    "loss_train_history = []\n",
    "loss_val_history = []\n",
    "accuracy_train_history = []\n",
    "accuracy_val_history = []\n",
    "for i in range(num_iters):\n",
    "    loss_train, grad = svm_loss_vectorized(W, X_train, y_train, reg)\n",
    "    loss_val, _ = svm_loss_vectorized(W, X_val, y_val, reg)\n",
    "    W -= lr * grad\n",
    "    \n",
    "    p_train = predict(W, X_train)\n",
    "    p_val = predict(W, X_val)\n",
    "    accuracy_train = np.mean(np.array(p_train == y_train), dtype = np.float32)\n",
    "    accuracy_val = np.mean(np.array(p_val == y_val), dtype = np.float32)\n",
    "\n",
    "    loss_train_history.append(loss_train)\n",
    "    loss_val_history.append(loss_val)\n",
    "    accuracy_train_history.append(accuracy_train)\n",
    "    accuracy_val_history.append(accuracy_val)\n",
    "    if i % 100 == 0:\n",
    "        print('iteration %d / %d: train loss: %f\\tvaluation loss: %f' \n",
    "              % (i, num_iters, loss_train, loss_val))"
   ]
  },
  {
   "cell_type": "code",
   "execution_count": 16,
   "metadata": {},
   "outputs": [
    {
     "data": {
      "image/png": "[encoded data removed]",
      "text/plain": [
       "<matplotlib.figure.Figure at 0x7fe71d4e0c18>"
      ]
     },
     "metadata": {},
     "output_type": "display_data"
    }
   ],
   "source": [
    "# plot the loss and accuracy as a function of iteration number:\n",
    "\n",
    "plt.title('Training / Valuation loss')\n",
    "plt.plot(loss_train_history,'blue',label='Train loss')\n",
    "plt.plot(loss_val_history,'red',label='Valuation loss')\n",
    "plt.xlabel('Iteration times')\n",
    "plt.ylabel('Loss value')\n",
    "plt.legend()\n",
    "\n",
    "plt.show()"
   ]
  },
  {
   "cell_type": "code",
   "execution_count": 13,
   "metadata": {},
   "outputs": [
    {
     "name": "stdout",
     "output_type": "stream",
     "text": [
      "train accuracy: 0.855072\n",
      "valuation accuracy: 0.934783\n"
     ]
    }
   ],
   "source": [
    "p = predict(W, X_train)\n",
    "accuracy_train = np.mean(np.array(p == y_train), dtype = np.float32)\n",
    "p = predict(W, X_val)\n",
    "accuracy_val = np.mean(np.array(p == y_val), dtype = np.float32)\n",
    "\n",
    "print('train accuracy:', accuracy_train)\n",
    "print('valuation accuracy:', accuracy_val)"
   ]
  }
 ],
 "metadata": {
  "kernelspec": {
   "display_name": "Python 3",
   "language": "python",
   "name": "python3"
  },
  "language_info": {
   "codemirror_mode": {
    "name": "ipython",
    "version": 3
   },
   "file_extension": ".py",
   "mimetype": "text/x-python",
   "name": "python",
   "nbconvert_exporter": "python",
   "pygments_lexer": "ipython3",
   "version": "3.5.2"
  }
 },
 "nbformat": 4,
 "nbformat_minor": 2
}
